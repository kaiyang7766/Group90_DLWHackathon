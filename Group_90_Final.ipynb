{
 "cells": [
  {
   "cell_type": "markdown",
   "metadata": {},
   "source": [
    "# DentalAnywhere Image Recognition System"
   ]
  },
  {
   "cell_type": "markdown",
   "metadata": {},
   "source": [
    "## Dataset\n",
    "\n",
    "Source of dataset: \n",
    "https://cs.uef.fi/pub/color/spectra/ODSI-DB/ and https://www.kaggle.com/shivam17299/oral-cancer-lips-and-tongue-images\n",
    "Dataset is obtained from the above URLs. \n",
    "\n",
    "There is a total of 309 images used which are label with 12 classes as follows:\n",
    "\n",
    "- AttritionErosion  \n",
    "- Calculus   \n",
    "- Dentine_caries  \n",
    "- Gingivitis  \n",
    "- Inflammation  \n",
    "- Initial_caries\n",
    "- Leukoplakia  \n",
    "- Microfracture  \n",
    "- Plague  \n",
    "- Ulcer  \n",
    "- Healthy  \n",
    "- Cancer"
   ]
  },
  {
   "cell_type": "code",
   "execution_count": 1,
   "metadata": {},
   "outputs": [],
   "source": [
    "# import necessary libraries\n",
    "import os\n",
    "import zipfile\n",
    "import cv2\n",
    "import tensorflow as tf\n",
    "from tensorflow import keras\n",
    "from tensorflow.keras.optimizers import RMSprop\n",
    "from tensorflow.keras.preprocessing.image import ImageDataGenerator\n",
    "from sklearn import preprocessing"
   ]
  },
  {
   "cell_type": "code",
   "execution_count": 2,
   "metadata": {
    "id": "FxEUcfkdaF_X"
   },
   "outputs": [
    {
     "data": {
      "text/plain": [
       "<tf.Tensor: shape=(309, 512, 512, 3), dtype=int32, numpy=\n",
       "array([[[[ 81,  87, 124],\n",
       "         [ 80,  86, 123],\n",
       "         [ 79,  85, 122],\n",
       "         ...,\n",
       "         [ 58,  59, 103],\n",
       "         [ 58,  59, 103],\n",
       "         [ 57,  59, 100]],\n",
       "\n",
       "        [[ 77,  82, 121],\n",
       "         [ 77,  83, 120],\n",
       "         [ 77,  82, 121],\n",
       "         ...,\n",
       "         [ 60,  60, 106],\n",
       "         [ 59,  60, 104],\n",
       "         [ 58,  60, 101]],\n",
       "\n",
       "        [[ 76,  80, 121],\n",
       "         [ 75,  80, 119],\n",
       "         [ 76,  78, 119],\n",
       "         ...,\n",
       "         [ 59,  62, 107],\n",
       "         [ 58,  61, 105],\n",
       "         [ 58,  61, 105]],\n",
       "\n",
       "        ...,\n",
       "\n",
       "        [[ 12,   4,   5],\n",
       "         [ 13,   5,   6],\n",
       "         [ 14,   6,   7],\n",
       "         ...,\n",
       "         [111,  81,  76],\n",
       "         [109,  78,  75],\n",
       "         [108,  77,  74]],\n",
       "\n",
       "        [[ 14,   6,   7],\n",
       "         [ 13,   5,   6],\n",
       "         [ 13,   5,   6],\n",
       "         ...,\n",
       "         [110,  80,  75],\n",
       "         [109,  78,  75],\n",
       "         [106,  77,  73]],\n",
       "\n",
       "        [[ 13,   5,   6],\n",
       "         [ 13,   5,   6],\n",
       "         [ 14,   6,   7],\n",
       "         ...,\n",
       "         [109,  79,  74],\n",
       "         [106,  77,  73],\n",
       "         [105,  76,  72]]],\n",
       "\n",
       "\n",
       "       [[[ 12,   7,   9],\n",
       "         [ 11,   6,   8],\n",
       "         [ 12,   7,   9],\n",
       "         ...,\n",
       "         [ 15,   9,  14],\n",
       "         [ 13,   9,  14],\n",
       "         [ 13,   9,  14]],\n",
       "\n",
       "        [[ 11,   6,   8],\n",
       "         [ 11,   6,   8],\n",
       "         [ 11,   6,   8],\n",
       "         ...,\n",
       "         [ 16,  10,  15],\n",
       "         [ 14,  10,  15],\n",
       "         [ 14,  10,  15]],\n",
       "\n",
       "        [[ 11,   5,  10],\n",
       "         [ 12,   6,  11],\n",
       "         [ 12,   6,  11],\n",
       "         ...,\n",
       "         [ 16,  12,  18],\n",
       "         [ 15,  11,  17],\n",
       "         [ 15,  11,  17]],\n",
       "\n",
       "        ...,\n",
       "\n",
       "        [[ 17,  13,  12],\n",
       "         [ 18,  14,  13],\n",
       "         [ 17,  12,  13],\n",
       "         ...,\n",
       "         [ 22,  17,  18],\n",
       "         [ 23,  17,  18],\n",
       "         [ 24,  18,  19]],\n",
       "\n",
       "        [[ 18,  14,  13],\n",
       "         [ 18,  14,  13],\n",
       "         [ 18,  14,  13],\n",
       "         ...,\n",
       "         [ 21,  16,  17],\n",
       "         [ 22,  17,  18],\n",
       "         [ 23,  18,  19]],\n",
       "\n",
       "        [[ 18,  14,  13],\n",
       "         [ 18,  14,  13],\n",
       "         [ 18,  14,  13],\n",
       "         ...,\n",
       "         [ 21,  16,  17],\n",
       "         [ 21,  16,  17],\n",
       "         [ 21,  16,  17]]],\n",
       "\n",
       "\n",
       "       [[[ 97,  67,  56],\n",
       "         [ 97,  67,  56],\n",
       "         [ 95,  67,  56],\n",
       "         ...,\n",
       "         [  8,   3,   2],\n",
       "         [  7,   2,   3],\n",
       "         [  7,   2,   3]],\n",
       "\n",
       "        [[ 98,  68,  57],\n",
       "         [ 98,  68,  57],\n",
       "         [ 96,  68,  57],\n",
       "         ...,\n",
       "         [  9,   4,   3],\n",
       "         [  8,   2,   3],\n",
       "         [  7,   2,   3]],\n",
       "\n",
       "        [[ 99,  69,  58],\n",
       "         [ 99,  69,  58],\n",
       "         [ 99,  69,  58],\n",
       "         ...,\n",
       "         [  9,   4,   3],\n",
       "         [  8,   2,   3],\n",
       "         [  8,   2,   3]],\n",
       "\n",
       "        ...,\n",
       "\n",
       "        [[ 38,  45,  60],\n",
       "         [ 40,  47,  62],\n",
       "         [ 42,  49,  64],\n",
       "         ...,\n",
       "         [ 14,  13,  17],\n",
       "         [ 14,  13,  17],\n",
       "         [ 14,  13,  17]],\n",
       "\n",
       "        [[ 36,  44,  57],\n",
       "         [ 39,  47,  60],\n",
       "         [ 44,  50,  63],\n",
       "         ...,\n",
       "         [ 16,  12,  17],\n",
       "         [ 14,  13,  17],\n",
       "         [ 13,  12,  16]],\n",
       "\n",
       "        [[ 35,  43,  56],\n",
       "         [ 38,  46,  59],\n",
       "         [ 42,  48,  61],\n",
       "         ...,\n",
       "         [ 16,  12,  17],\n",
       "         [ 14,  13,  17],\n",
       "         [ 13,  12,  16]]],\n",
       "\n",
       "\n",
       "       ...,\n",
       "\n",
       "\n",
       "       [[[  6,   4,   4],\n",
       "         [  6,   4,   4],\n",
       "         [  6,   4,   4],\n",
       "         ...,\n",
       "         [112, 134, 175],\n",
       "         [113, 133, 174],\n",
       "         [112, 132, 173]],\n",
       "\n",
       "        [[  6,   4,   4],\n",
       "         [  6,   4,   4],\n",
       "         [  6,   4,   4],\n",
       "         ...,\n",
       "         [113, 135, 176],\n",
       "         [113, 133, 174],\n",
       "         [113, 133, 174]],\n",
       "\n",
       "        [[  8,   3,   4],\n",
       "         [  8,   3,   4],\n",
       "         [  8,   3,   4],\n",
       "         ...,\n",
       "         [115, 135, 176],\n",
       "         [114, 134, 175],\n",
       "         [113, 133, 174]],\n",
       "\n",
       "        ...,\n",
       "\n",
       "        [[ 28,  32,  43],\n",
       "         [ 27,  31,  42],\n",
       "         [ 28,  30,  41],\n",
       "         ...,\n",
       "         [ 37,  28,  38],\n",
       "         [ 37,  29,  40],\n",
       "         [ 37,  29,  40]],\n",
       "\n",
       "        [[ 28,  32,  43],\n",
       "         [ 28,  32,  43],\n",
       "         [ 27,  31,  42],\n",
       "         ...,\n",
       "         [ 37,  29,  40],\n",
       "         [ 37,  29,  40],\n",
       "         [ 37,  29,  40]],\n",
       "\n",
       "        [[ 29,  33,  44],\n",
       "         [ 28,  32,  43],\n",
       "         [ 27,  31,  42],\n",
       "         ...,\n",
       "         [ 38,  30,  41],\n",
       "         [ 38,  30,  41],\n",
       "         [ 39,  31,  42]]],\n",
       "\n",
       "\n",
       "       [[[ 37,  44,  63],\n",
       "         [ 38,  45,  64],\n",
       "         [ 39,  46,  65],\n",
       "         ...,\n",
       "         [ 46,  62,  91],\n",
       "         [ 47,  61,  90],\n",
       "         [ 45,  59,  88]],\n",
       "\n",
       "        [[ 37,  44,  63],\n",
       "         [ 37,  44,  63],\n",
       "         [ 38,  45,  64],\n",
       "         ...,\n",
       "         [ 49,  65,  94],\n",
       "         [ 49,  63,  92],\n",
       "         [ 47,  61,  90]],\n",
       "\n",
       "        [[ 36,  43,  62],\n",
       "         [ 36,  43,  62],\n",
       "         [ 36,  43,  63],\n",
       "         ...,\n",
       "         [ 51,  66,  98],\n",
       "         [ 49,  65,  94],\n",
       "         [ 47,  63,  92]],\n",
       "\n",
       "        ...,\n",
       "\n",
       "        [[ 27,  26,  36],\n",
       "         [ 26,  25,  35],\n",
       "         [ 26,  25,  34],\n",
       "         ...,\n",
       "         [ 48,  41,  46],\n",
       "         [ 47,  39,  46],\n",
       "         [ 45,  38,  45]],\n",
       "\n",
       "        [[ 27,  26,  36],\n",
       "         [ 27,  26,  36],\n",
       "         [ 27,  26,  36],\n",
       "         ...,\n",
       "         [ 49,  42,  47],\n",
       "         [ 47,  40,  45],\n",
       "         [ 48,  41,  46]],\n",
       "\n",
       "        [[ 27,  26,  36],\n",
       "         [ 27,  26,  36],\n",
       "         [ 27,  26,  36],\n",
       "         ...,\n",
       "         [ 52,  42,  48],\n",
       "         [ 50,  43,  48],\n",
       "         [ 48,  41,  46]]],\n",
       "\n",
       "\n",
       "       [[[ 44,  29,  26],\n",
       "         [ 44,  29,  26],\n",
       "         [ 46,  29,  26],\n",
       "         ...,\n",
       "         [ 10,   3,  10],\n",
       "         [ 11,   4,  11],\n",
       "         [ 12,   5,  12]],\n",
       "\n",
       "        [[ 44,  29,  26],\n",
       "         [ 44,  29,  26],\n",
       "         [ 46,  29,  26],\n",
       "         ...,\n",
       "         [ 10,   3,  10],\n",
       "         [ 10,   3,  10],\n",
       "         [ 11,   4,  11]],\n",
       "\n",
       "        [[ 47,  31,  25],\n",
       "         [ 46,  30,  24],\n",
       "         [ 46,  30,  24],\n",
       "         ...,\n",
       "         [  9,   3,   8],\n",
       "         [ 10,   3,  10],\n",
       "         [ 10,   3,  10]],\n",
       "\n",
       "        ...,\n",
       "\n",
       "        [[ 12,   9,  18],\n",
       "         [ 12,   9,  18],\n",
       "         [ 15,  10,  19],\n",
       "         ...,\n",
       "         [ 17,   9,  16],\n",
       "         [ 19,   8,  16],\n",
       "         [ 20,   9,  17]],\n",
       "\n",
       "        [[ 12,   8,  19],\n",
       "         [ 13,   9,  20],\n",
       "         [ 15,  10,  19],\n",
       "         ...,\n",
       "         [ 19,   8,  16],\n",
       "         [ 18,  10,  17],\n",
       "         [ 18,  10,  17]],\n",
       "\n",
       "        [[ 12,   8,  19],\n",
       "         [ 12,   8,  19],\n",
       "         [ 15,  10,  19],\n",
       "         ...,\n",
       "         [ 20,   9,  17],\n",
       "         [ 18,  10,  17],\n",
       "         [ 17,   9,  16]]]])>"
      ]
     },
     "execution_count": 2,
     "metadata": {},
     "output_type": "execute_result"
    }
   ],
   "source": [
    "# Load image files and append them as array\n",
    "dataset=[]\n",
    "datalabel=[]\n",
    "\n",
    "rootdir= r\"C:\\Users\\ZENBOOK\\Documents\\Hackathon\\MLDADeepLearningWeek2021\\OralData\"\n",
    "\n",
    "for subdir, dirs, files in os.walk(rootdir):\n",
    "    for file in files:\n",
    "        img=cv2.imread(os.path.join(subdir, file))\n",
    "        resized=cv2.resize(img,(512,512))\n",
    "        dataset.append(resized)\n",
    "        datalabel.append(subdir[70:])\n",
    "\n",
    "dataset=tf.convert_to_tensor(dataset)\n",
    "dataset"
   ]
  },
  {
   "cell_type": "code",
   "execution_count": 3,
   "metadata": {},
   "outputs": [
    {
     "data": {
      "text/plain": [
       "<tf.Tensor: shape=(309, 12), dtype=float32, numpy=\n",
       "array([[0., 0., 0., ..., 0., 0., 1.],\n",
       "       [0., 0., 0., ..., 0., 0., 1.],\n",
       "       [0., 0., 0., ..., 0., 0., 1.],\n",
       "       ...,\n",
       "       [0., 0., 0., ..., 0., 0., 0.],\n",
       "       [0., 0., 0., ..., 0., 0., 0.],\n",
       "       [0., 0., 0., ..., 0., 0., 0.]], dtype=float32)>"
      ]
     },
     "execution_count": 3,
     "metadata": {},
     "output_type": "execute_result"
    }
   ],
   "source": [
    "# Create a set of unique class for datalabel\n",
    "unique_labels=set(datalabel)\n",
    "unique_keys=set()\n",
    "for i in range(1, len(unique_labels)+1,1):\n",
    "    unique_keys.add(i)\n",
    "unique_dict=dict(zip(unique_labels,unique_keys))\n",
    "\n",
    "datalabel_numeric=[]\n",
    "idx=1\n",
    "for label in datalabel:\n",
    "    if label in unique_dict:\n",
    "        datalabel_numeric.append(unique_dict[label])\n",
    "        \n",
    "# Perform onehot encoding to the datalabel\n",
    "datalabel_onehot=tf.one_hot(datalabel_numeric,len(unique_labels))\n",
    "datalabel_onehot"
   ]
  },
  {
   "cell_type": "markdown",
   "metadata": {},
   "source": [
    "Comment: One-hot encoding is applied to ensure there is no relationship exists among the categorical variables. In other words, the assumption of the higher the categorical value, the better the category does not valid."
   ]
  },
  {
   "cell_type": "code",
   "execution_count": 4,
   "metadata": {},
   "outputs": [
    {
     "name": "stdout",
     "output_type": "stream",
     "text": [
      "StratifiedShuffleSplit(n_splits=5, random_state=0, test_size=0.1,\n",
      "            train_size=None)\n"
     ]
    }
   ],
   "source": [
    "import numpy as np\n",
    "from sklearn.model_selection import StratifiedShuffleSplit\n",
    "\n",
    "x = dataset\n",
    "y = datalabel_onehot\n",
    "\n",
    "# Perform random splitting using StratifiedShuffleSplit method\n",
    "sss = StratifiedShuffleSplit(n_splits=5, test_size=0.1, random_state=0)\n",
    "sss.get_n_splits(x,y)\n",
    "print(sss)\n",
    "\n",
    "for train_index, test_index in sss.split(x,y):\n",
    "    x1 = train_index\n",
    "    x2 = test_index\n",
    "\n",
    "x_train = tf.gather(x, indices=x1)\n",
    "x_test = tf.gather(x, indices=x2)\n",
    "y_train = tf.gather(y, indices=x1)\n",
    "y_test = tf.gather(y, indices=x2)"
   ]
  },
  {
   "cell_type": "markdown",
   "metadata": {},
   "source": [
    "## Transfer Learning\n",
    "\n",
    "Due to limited data available to train the model, VGG16 pretrained model was deployed for transfer learning. With the use of the pretrained model, we were able to leverage the previous learnings of the model on a much larger dataset. This reduces the computational cost of training the model from scatch and allows our model to perform better and is more generalised. Other pretrained models including InceptionV3 and ResNet50 were also used to train our model but VGG16 was selected as it yielded the best result among the others. "
   ]
  },
  {
   "cell_type": "code",
   "execution_count": 5,
   "metadata": {},
   "outputs": [],
   "source": [
    "from tensorflow.keras.applications.vgg16 import VGG16\n",
    "\n",
    "base_model = VGG16(input_shape = (512, 512, 3), # Shape of our images\n",
    "include_top = False, # Leave out the last fully connected layer\n",
    "weights = 'imagenet')"
   ]
  },
  {
   "cell_type": "code",
   "execution_count": 6,
   "metadata": {},
   "outputs": [
    {
     "name": "stdout",
     "output_type": "stream",
     "text": [
      "15\n"
     ]
    }
   ],
   "source": [
    "i = 0\n",
    "for layer in base_model.layers[:15]:\n",
    "    i += 1\n",
    "    layer.trainable = False\n",
    "    \n",
    "print(i)"
   ]
  },
  {
   "cell_type": "code",
   "execution_count": 7,
   "metadata": {},
   "outputs": [],
   "source": [
    "# Flatten the output layer to 1 dimension\n",
    "x = tf.keras.layers.Flatten()(base_model.output)\n",
    "\n",
    "# Add a fully connected layer with 64 hidden units and ReLU activation\n",
    "x = tf.keras.layers.Dense(64, activation='relu')(x)\n",
    "\n",
    "# Add a dropout rate of 0.2\n",
    "x = tf.keras.layers.Dropout(0.2)(x)\n",
    "\n",
    "# Add a final sigmoid layer with 12 nodes for classification output\n",
    "x = tf.keras.layers.Dense(len(unique_labels), activation='softmax')(x)\n",
    "\n",
    "model = tf.keras.models.Model(base_model.input, x)\n",
    "\n",
    "model.compile(optimizer = tf.keras.optimizers.RMSprop(learning_rate=0.0001), loss = 'categorical_crossentropy',metrics = ['acc'])"
   ]
  },
  {
   "cell_type": "code",
   "execution_count": 8,
   "metadata": {},
   "outputs": [
    {
     "name": "stdout",
     "output_type": "stream",
     "text": [
      "Model: \"functional_1\"\n",
      "_________________________________________________________________\n",
      "Layer (type)                 Output Shape              Param #   \n",
      "=================================================================\n",
      "input_1 (InputLayer)         [(None, 512, 512, 3)]     0         \n",
      "_________________________________________________________________\n",
      "block1_conv1 (Conv2D)        (None, 512, 512, 64)      1792      \n",
      "_________________________________________________________________\n",
      "block1_conv2 (Conv2D)        (None, 512, 512, 64)      36928     \n",
      "_________________________________________________________________\n",
      "block1_pool (MaxPooling2D)   (None, 256, 256, 64)      0         \n",
      "_________________________________________________________________\n",
      "block2_conv1 (Conv2D)        (None, 256, 256, 128)     73856     \n",
      "_________________________________________________________________\n",
      "block2_conv2 (Conv2D)        (None, 256, 256, 128)     147584    \n",
      "_________________________________________________________________\n",
      "block2_pool (MaxPooling2D)   (None, 128, 128, 128)     0         \n",
      "_________________________________________________________________\n",
      "block3_conv1 (Conv2D)        (None, 128, 128, 256)     295168    \n",
      "_________________________________________________________________\n",
      "block3_conv2 (Conv2D)        (None, 128, 128, 256)     590080    \n",
      "_________________________________________________________________\n",
      "block3_conv3 (Conv2D)        (None, 128, 128, 256)     590080    \n",
      "_________________________________________________________________\n",
      "block3_pool (MaxPooling2D)   (None, 64, 64, 256)       0         \n",
      "_________________________________________________________________\n",
      "block4_conv1 (Conv2D)        (None, 64, 64, 512)       1180160   \n",
      "_________________________________________________________________\n",
      "block4_conv2 (Conv2D)        (None, 64, 64, 512)       2359808   \n",
      "_________________________________________________________________\n",
      "block4_conv3 (Conv2D)        (None, 64, 64, 512)       2359808   \n",
      "_________________________________________________________________\n",
      "block4_pool (MaxPooling2D)   (None, 32, 32, 512)       0         \n",
      "_________________________________________________________________\n",
      "block5_conv1 (Conv2D)        (None, 32, 32, 512)       2359808   \n",
      "_________________________________________________________________\n",
      "block5_conv2 (Conv2D)        (None, 32, 32, 512)       2359808   \n",
      "_________________________________________________________________\n",
      "block5_conv3 (Conv2D)        (None, 32, 32, 512)       2359808   \n",
      "_________________________________________________________________\n",
      "block5_pool (MaxPooling2D)   (None, 16, 16, 512)       0         \n",
      "_________________________________________________________________\n",
      "flatten (Flatten)            (None, 131072)            0         \n",
      "_________________________________________________________________\n",
      "dense (Dense)                (None, 64)                8388672   \n",
      "_________________________________________________________________\n",
      "dropout (Dropout)            (None, 64)                0         \n",
      "_________________________________________________________________\n",
      "dense_1 (Dense)              (None, 12)                780       \n",
      "=================================================================\n",
      "Total params: 23,104,140\n",
      "Trainable params: 15,468,876\n",
      "Non-trainable params: 7,635,264\n",
      "_________________________________________________________________\n"
     ]
    }
   ],
   "source": [
    "model.summary()"
   ]
  },
  {
   "cell_type": "code",
   "execution_count": 9,
   "metadata": {},
   "outputs": [],
   "source": [
    "train_datagen = ImageDataGenerator(rescale=1./255)\n",
    "\n",
    "train_generator = train_datagen.flow(x_train, y_train,\n",
    "                                     batch_size=10)\n",
    "\n",
    "validation_datagen = ImageDataGenerator(rescale=1./255)\n",
    "      \n",
    "validation_generator = validation_datagen.flow(x_test,y_test,\n",
    "                                               batch_size=10)"
   ]
  },
  {
   "cell_type": "code",
   "execution_count": 11,
   "metadata": {},
   "outputs": [
    {
     "name": "stdout",
     "output_type": "stream",
     "text": [
      "Epoch 1/10\n",
      "28/28 [==============================] - 333s 12s/step - loss: 1.6015 - acc: 0.3309 - val_loss: 1.4352 - val_acc: 0.3226\n",
      "Epoch 2/10\n",
      "28/28 [==============================] - 351s 13s/step - loss: 1.4975 - acc: 0.3597 - val_loss: 1.4290 - val_acc: 0.4516\n",
      "Epoch 3/10\n",
      "28/28 [==============================] - 352s 13s/step - loss: 1.2761 - acc: 0.4424 - val_loss: 1.2154 - val_acc: 0.4516\n",
      "Epoch 4/10\n",
      "28/28 [==============================] - 354s 13s/step - loss: 1.1959 - acc: 0.4676 - val_loss: 1.1193 - val_acc: 0.4839\n",
      "Epoch 5/10\n",
      "28/28 [==============================] - 350s 13s/step - loss: 1.0041 - acc: 0.5468 - val_loss: 1.0631 - val_acc: 0.5484\n",
      "Epoch 6/10\n",
      "28/28 [==============================] - 359s 13s/step - loss: 0.9417 - acc: 0.5576 - val_loss: 0.9500 - val_acc: 0.5806\n",
      "Epoch 7/10\n",
      "28/28 [==============================] - 355s 13s/step - loss: 0.8818 - acc: 0.5647 - val_loss: 1.0466 - val_acc: 0.5161\n",
      "Epoch 8/10\n",
      "28/28 [==============================] - 349s 12s/step - loss: 0.8378 - acc: 0.6007 - val_loss: 1.0337 - val_acc: 0.5161\n",
      "Epoch 9/10\n",
      "28/28 [==============================] - 558s 20s/step - loss: 0.7870 - acc: 0.5971 - val_loss: 1.0683 - val_acc: 0.5161\n",
      "Epoch 10/10\n",
      "28/28 [==============================] - 591s 21s/step - loss: 0.7077 - acc: 0.6151 - val_loss: 1.1477 - val_acc: 0.5484\n"
     ]
    }
   ],
   "source": [
    "history = model.fit(train_generator,\n",
    "                    epochs=10,\n",
    "                    validation_data=validation_generator)"
   ]
  },
  {
   "cell_type": "markdown",
   "metadata": {},
   "source": [
    "## Plot of training and validation accuracy and loss"
   ]
  },
  {
   "cell_type": "code",
   "execution_count": 12,
   "metadata": {},
   "outputs": [
    {
     "data": {
      "text/plain": [
       "Text(0.5, 1.0, 'Training and validation loss')"
      ]
     },
     "execution_count": 12,
     "metadata": {},
     "output_type": "execute_result"
    },
    {
     "data": {
      "image/png": "[encoded data removed]",
      "text/plain": [
       "<Figure size 432x288 with 1 Axes>"
      ]
     },
     "metadata": {
      "needs_background": "light"
     },
     "output_type": "display_data"
    },
    {
     "data": {
      "image/png": "[encoded data removed]",
      "text/plain": [
       "<Figure size 432x288 with 1 Axes>"
      ]
     },
     "metadata": {
      "needs_background": "light"
     },
     "output_type": "display_data"
    }
   ],
   "source": [
    "import matplotlib.image  as mpimg\n",
    "import matplotlib.pyplot as plt\n",
    "\n",
    "# Retrieve a list of list results on training and test datasets for each training epoch\n",
    "acc=history.history['acc']\n",
    "val_acc=history.history['val_acc']\n",
    "loss=history.history['loss']\n",
    "val_loss=history.history['val_loss']\n",
    "\n",
    "epochs=range(len(acc)) # Get number of epochs\n",
    "\n",
    "\n",
    "# Plot training and validation accuracy per epoch\n",
    "plt.plot(epochs, acc, 'r', \"Training Accuracy\")\n",
    "plt.plot(epochs, val_acc, 'b', \"Validation Accuracy\")\n",
    "plt.title('Training and validation accuracy')\n",
    "plt.figure()\n",
    "\n",
    "\n",
    "# Plot training and validation loss per epoch\n",
    "plt.plot(epochs, loss, 'r', \"Training Loss\")\n",
    "plt.plot(epochs, val_loss, 'b', \"Validation Loss\")\n",
    "\n",
    "\n",
    "plt.title('Training and validation loss')"
   ]
  },
  {
   "cell_type": "markdown",
   "metadata": {},
   "source": [
    "Based on the graph above, the training accuracy increases with smaller loss as number of epochs increases, inferring that the model is learning from the training data. At the 10th epoch, training accuracy of about 60% is obtained. However, the validation accuracy remains relatively constant with larger loss as number of epochs increases. This could be a sign of overfitting due to the small training data which causes the model to only learn the features of the training data, and hence less generalised to new data.\n",
    "\n",
    "### Possible improvement:\n",
    "- Larger dataset could be used to train the data for better model accuracy\n",
    "- Better data quality which potrays the distinguishable features of each oral condition may also improve model performance"
   ]
  },
  {
   "cell_type": "markdown",
   "metadata": {},
   "source": [
    "## Prediction using new data"
   ]
  },
  {
   "cell_type": "code",
   "execution_count": 18,
   "metadata": {},
   "outputs": [
    {
     "ename": "FileNotFoundError",
     "evalue": "[Errno 2] No such file or directory: 'TrialData/Trial01'",
     "output_type": "error",
     "traceback": [
      "\u001b[1;31m---------------------------------------------------------------------------\u001b[0m",
      "\u001b[1;31mFileNotFoundError\u001b[0m                         Traceback (most recent call last)",
      "\u001b[1;32m<ipython-input-18-b95f4417ce12>\u001b[0m in \u001b[0;36m<module>\u001b[1;34m\u001b[0m\n\u001b[0;32m      3\u001b[0m \u001b[1;33m\u001b[0m\u001b[0m\n\u001b[0;32m      4\u001b[0m \u001b[0mpath\u001b[0m \u001b[1;33m=\u001b[0m \u001b[1;34m'TrialData/Trial01'\u001b[0m\u001b[1;33m\u001b[0m\u001b[1;33m\u001b[0m\u001b[0m\n\u001b[1;32m----> 5\u001b[1;33m \u001b[0mimg\u001b[0m \u001b[1;33m=\u001b[0m \u001b[0mimage\u001b[0m\u001b[1;33m.\u001b[0m\u001b[0mload_img\u001b[0m\u001b[1;33m(\u001b[0m\u001b[0mpath\u001b[0m\u001b[1;33m,\u001b[0m \u001b[0mtarget_size\u001b[0m\u001b[1;33m=\u001b[0m\u001b[1;33m(\u001b[0m\u001b[1;36m512\u001b[0m\u001b[1;33m,\u001b[0m \u001b[1;36m512\u001b[0m\u001b[1;33m)\u001b[0m\u001b[1;33m)\u001b[0m\u001b[1;33m\u001b[0m\u001b[1;33m\u001b[0m\u001b[0m\n\u001b[0m\u001b[0;32m      6\u001b[0m \u001b[0mx\u001b[0m \u001b[1;33m=\u001b[0m \u001b[0mimage\u001b[0m\u001b[1;33m.\u001b[0m\u001b[0mimg_to_array\u001b[0m\u001b[1;33m(\u001b[0m\u001b[0mimg\u001b[0m\u001b[1;33m)\u001b[0m\u001b[1;33m\u001b[0m\u001b[1;33m\u001b[0m\u001b[0m\n\u001b[0;32m      7\u001b[0m \u001b[0mx\u001b[0m \u001b[1;33m=\u001b[0m \u001b[0mnp\u001b[0m\u001b[1;33m.\u001b[0m\u001b[0mexpand_dims\u001b[0m\u001b[1;33m(\u001b[0m\u001b[0mx\u001b[0m\u001b[1;33m,\u001b[0m \u001b[0maxis\u001b[0m\u001b[1;33m=\u001b[0m\u001b[1;36m0\u001b[0m\u001b[1;33m)\u001b[0m\u001b[1;33m\u001b[0m\u001b[1;33m\u001b[0m\u001b[0m\n",
      "\u001b[1;32mC:\\ProgramData\\Anaconda3\\lib\\site-packages\\tensorflow\\python\\keras\\preprocessing\\image.py\u001b[0m in \u001b[0;36mload_img\u001b[1;34m(path, grayscale, color_mode, target_size, interpolation)\u001b[0m\n\u001b[0;32m    298\u001b[0m       \u001b[0mValueError\u001b[0m\u001b[1;33m:\u001b[0m \u001b[1;32mif\u001b[0m \u001b[0minterpolation\u001b[0m \u001b[0mmethod\u001b[0m \u001b[1;32mis\u001b[0m \u001b[1;32mnot\u001b[0m \u001b[0msupported\u001b[0m\u001b[1;33m.\u001b[0m\u001b[1;33m\u001b[0m\u001b[1;33m\u001b[0m\u001b[0m\n\u001b[0;32m    299\u001b[0m   \"\"\"\n\u001b[1;32m--> 300\u001b[1;33m   return image.load_img(path, grayscale=grayscale, color_mode=color_mode,\n\u001b[0m\u001b[0;32m    301\u001b[0m                         target_size=target_size, interpolation=interpolation)\n\u001b[0;32m    302\u001b[0m \u001b[1;33m\u001b[0m\u001b[0m\n",
      "\u001b[1;32mC:\\ProgramData\\Anaconda3\\lib\\site-packages\\keras_preprocessing\\image\\utils.py\u001b[0m in \u001b[0;36mload_img\u001b[1;34m(path, grayscale, color_mode, target_size, interpolation)\u001b[0m\n\u001b[0;32m    111\u001b[0m         raise ImportError('Could not import PIL.Image. '\n\u001b[0;32m    112\u001b[0m                           'The use of `load_img` requires PIL.')\n\u001b[1;32m--> 113\u001b[1;33m     \u001b[1;32mwith\u001b[0m \u001b[0mopen\u001b[0m\u001b[1;33m(\u001b[0m\u001b[0mpath\u001b[0m\u001b[1;33m,\u001b[0m \u001b[1;34m'rb'\u001b[0m\u001b[1;33m)\u001b[0m \u001b[1;32mas\u001b[0m \u001b[0mf\u001b[0m\u001b[1;33m:\u001b[0m\u001b[1;33m\u001b[0m\u001b[1;33m\u001b[0m\u001b[0m\n\u001b[0m\u001b[0;32m    114\u001b[0m         \u001b[0mimg\u001b[0m \u001b[1;33m=\u001b[0m \u001b[0mpil_image\u001b[0m\u001b[1;33m.\u001b[0m\u001b[0mopen\u001b[0m\u001b[1;33m(\u001b[0m\u001b[0mio\u001b[0m\u001b[1;33m.\u001b[0m\u001b[0mBytesIO\u001b[0m\u001b[1;33m(\u001b[0m\u001b[0mf\u001b[0m\u001b[1;33m.\u001b[0m\u001b[0mread\u001b[0m\u001b[1;33m(\u001b[0m\u001b[1;33m)\u001b[0m\u001b[1;33m)\u001b[0m\u001b[1;33m)\u001b[0m\u001b[1;33m\u001b[0m\u001b[1;33m\u001b[0m\u001b[0m\n\u001b[0;32m    115\u001b[0m         \u001b[1;32mif\u001b[0m \u001b[0mcolor_mode\u001b[0m \u001b[1;33m==\u001b[0m \u001b[1;34m'grayscale'\u001b[0m\u001b[1;33m:\u001b[0m\u001b[1;33m\u001b[0m\u001b[1;33m\u001b[0m\u001b[0m\n",
      "\u001b[1;31mFileNotFoundError\u001b[0m: [Errno 2] No such file or directory: 'TrialData/Trial01'"
     ]
    }
   ],
   "source": [
    "import matplotlib.image as mpimg\n",
    "from tensorflow.keras.preprocessing import image\n",
    "\n",
    "path = 'TrialData/Trial01' \n",
    "img = image.load_img(path, target_size=(512, 512))\n",
    "x = image.img_to_array(img)\n",
    "x = np.expand_dims(x, axis=0)\n",
    "y_pred = model.predict(x)\n",
    "y_pred\n",
    "y_test"
   ]
  },
  {
   "cell_type": "code",
   "execution_count": null,
   "metadata": {},
   "outputs": [],
   "source": [
    "def decode(pred,top=3):\n",
    "    return sorted(zip(pred[0],unique_labels),reverse=True)[:top]"
   ]
  },
  {
   "cell_type": "code",
   "execution_count": null,
   "metadata": {},
   "outputs": [],
   "source": [
    "y_pred = decode(y_pred)\n",
    "y_test = decode(y_test)"
   ]
  }
 ],
 "metadata": {
  "colab": {
   "collapsed_sections": [],
   "name": "Group 90.ipynb",
   "provenance": []
  },
  "kernelspec": {
   "display_name": "Python 3",
   "language": "python",
   "name": "python3"
  },
  "language_info": {
   "codemirror_mode": {
    "name": "ipython",
    "version": 3
   },
   "file_extension": ".py",
   "mimetype": "text/x-python",
   "name": "python",
   "nbconvert_exporter": "python",
   "pygments_lexer": "ipython3",
   "version": "3.8.3"
  }
 },
 "nbformat": 4,
 "nbformat_minor": 1
}
